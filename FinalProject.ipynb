{
 "cells": [
  {
   "cell_type": "code",
   "execution_count": 109,
   "id": "47ad01b7",
   "metadata": {},
   "outputs": [],
   "source": [
    "import pandas as pd\n",
    "import numpy as np\n",
    "import matplotlib.pyplot as plt\n",
    "import seaborn as sns"
   ]
  },
  {
   "cell_type": "code",
   "execution_count": 110,
   "id": "c0b9b371",
   "metadata": {},
   "outputs": [
    {
     "data": {
      "text/html": [
       "<div>\n",
       "<style scoped>\n",
       "    .dataframe tbody tr th:only-of-type {\n",
       "        vertical-align: middle;\n",
       "    }\n",
       "\n",
       "    .dataframe tbody tr th {\n",
       "        vertical-align: top;\n",
       "    }\n",
       "\n",
       "    .dataframe thead th {\n",
       "        text-align: right;\n",
       "    }\n",
       "</style>\n",
       "<table border=\"1\" class=\"dataframe\">\n",
       "  <thead>\n",
       "    <tr style=\"text-align: right;\">\n",
       "      <th></th>\n",
       "      <th>gender</th>\n",
       "      <th>race/ethnicity</th>\n",
       "      <th>parental level of education</th>\n",
       "      <th>lunch</th>\n",
       "      <th>test preparation course</th>\n",
       "      <th>math score</th>\n",
       "      <th>reading score</th>\n",
       "      <th>writing score</th>\n",
       "    </tr>\n",
       "  </thead>\n",
       "  <tbody>\n",
       "    <tr>\n",
       "      <th>0</th>\n",
       "      <td>female</td>\n",
       "      <td>group B</td>\n",
       "      <td>bachelor's degree</td>\n",
       "      <td>standard</td>\n",
       "      <td>none</td>\n",
       "      <td>72</td>\n",
       "      <td>72</td>\n",
       "      <td>74</td>\n",
       "    </tr>\n",
       "    <tr>\n",
       "      <th>1</th>\n",
       "      <td>female</td>\n",
       "      <td>group C</td>\n",
       "      <td>some college</td>\n",
       "      <td>standard</td>\n",
       "      <td>completed</td>\n",
       "      <td>69</td>\n",
       "      <td>90</td>\n",
       "      <td>88</td>\n",
       "    </tr>\n",
       "    <tr>\n",
       "      <th>2</th>\n",
       "      <td>female</td>\n",
       "      <td>group B</td>\n",
       "      <td>master's degree</td>\n",
       "      <td>standard</td>\n",
       "      <td>none</td>\n",
       "      <td>90</td>\n",
       "      <td>95</td>\n",
       "      <td>93</td>\n",
       "    </tr>\n",
       "    <tr>\n",
       "      <th>3</th>\n",
       "      <td>male</td>\n",
       "      <td>group A</td>\n",
       "      <td>associate's degree</td>\n",
       "      <td>free/reduced</td>\n",
       "      <td>none</td>\n",
       "      <td>47</td>\n",
       "      <td>57</td>\n",
       "      <td>44</td>\n",
       "    </tr>\n",
       "    <tr>\n",
       "      <th>4</th>\n",
       "      <td>male</td>\n",
       "      <td>group C</td>\n",
       "      <td>some college</td>\n",
       "      <td>standard</td>\n",
       "      <td>none</td>\n",
       "      <td>76</td>\n",
       "      <td>78</td>\n",
       "      <td>75</td>\n",
       "    </tr>\n",
       "    <tr>\n",
       "      <th>...</th>\n",
       "      <td>...</td>\n",
       "      <td>...</td>\n",
       "      <td>...</td>\n",
       "      <td>...</td>\n",
       "      <td>...</td>\n",
       "      <td>...</td>\n",
       "      <td>...</td>\n",
       "      <td>...</td>\n",
       "    </tr>\n",
       "    <tr>\n",
       "      <th>995</th>\n",
       "      <td>female</td>\n",
       "      <td>group E</td>\n",
       "      <td>master's degree</td>\n",
       "      <td>standard</td>\n",
       "      <td>completed</td>\n",
       "      <td>88</td>\n",
       "      <td>99</td>\n",
       "      <td>95</td>\n",
       "    </tr>\n",
       "    <tr>\n",
       "      <th>996</th>\n",
       "      <td>male</td>\n",
       "      <td>group C</td>\n",
       "      <td>high school</td>\n",
       "      <td>free/reduced</td>\n",
       "      <td>none</td>\n",
       "      <td>62</td>\n",
       "      <td>55</td>\n",
       "      <td>55</td>\n",
       "    </tr>\n",
       "    <tr>\n",
       "      <th>997</th>\n",
       "      <td>female</td>\n",
       "      <td>group C</td>\n",
       "      <td>high school</td>\n",
       "      <td>free/reduced</td>\n",
       "      <td>completed</td>\n",
       "      <td>59</td>\n",
       "      <td>71</td>\n",
       "      <td>65</td>\n",
       "    </tr>\n",
       "    <tr>\n",
       "      <th>998</th>\n",
       "      <td>female</td>\n",
       "      <td>group D</td>\n",
       "      <td>some college</td>\n",
       "      <td>standard</td>\n",
       "      <td>completed</td>\n",
       "      <td>68</td>\n",
       "      <td>78</td>\n",
       "      <td>77</td>\n",
       "    </tr>\n",
       "    <tr>\n",
       "      <th>999</th>\n",
       "      <td>female</td>\n",
       "      <td>group D</td>\n",
       "      <td>some college</td>\n",
       "      <td>free/reduced</td>\n",
       "      <td>none</td>\n",
       "      <td>77</td>\n",
       "      <td>86</td>\n",
       "      <td>86</td>\n",
       "    </tr>\n",
       "  </tbody>\n",
       "</table>\n",
       "<p>1000 rows × 8 columns</p>\n",
       "</div>"
      ],
      "text/plain": [
       "     gender race/ethnicity parental level of education         lunch  \\\n",
       "0    female        group B           bachelor's degree      standard   \n",
       "1    female        group C                some college      standard   \n",
       "2    female        group B             master's degree      standard   \n",
       "3      male        group A          associate's degree  free/reduced   \n",
       "4      male        group C                some college      standard   \n",
       "..      ...            ...                         ...           ...   \n",
       "995  female        group E             master's degree      standard   \n",
       "996    male        group C                 high school  free/reduced   \n",
       "997  female        group C                 high school  free/reduced   \n",
       "998  female        group D                some college      standard   \n",
       "999  female        group D                some college  free/reduced   \n",
       "\n",
       "    test preparation course  math score  reading score  writing score  \n",
       "0                      none          72             72             74  \n",
       "1                 completed          69             90             88  \n",
       "2                      none          90             95             93  \n",
       "3                      none          47             57             44  \n",
       "4                      none          76             78             75  \n",
       "..                      ...         ...            ...            ...  \n",
       "995               completed          88             99             95  \n",
       "996                    none          62             55             55  \n",
       "997               completed          59             71             65  \n",
       "998               completed          68             78             77  \n",
       "999                    none          77             86             86  \n",
       "\n",
       "[1000 rows x 8 columns]"
      ]
     },
     "execution_count": 110,
     "metadata": {},
     "output_type": "execute_result"
    }
   ],
   "source": [
    "data = pd.read_csv(\"StudentsPerformance.csv\")\n",
    "df = pd.DataFrame(data)\n",
    "df.dropna(inplace=True)\n",
    "df"
   ]
  },
  {
   "cell_type": "markdown",
   "id": "a007f768",
   "metadata": {},
   "source": [
    "### Function to choose the subject"
   ]
  },
  {
   "cell_type": "code",
   "execution_count": 111,
   "id": "b8eabfc6",
   "metadata": {},
   "outputs": [],
   "source": [
    "def choose_subject(dt):\n",
    "    subject_num = int(input('Enter the subject: [1] Math - [2] Reading - [3] Writing : '))\n",
    "\n",
    "    if subject_num == 1:\n",
    "        col = 'math score'\n",
    "    elif subject_num == 2:\n",
    "        col = 'reading score'\n",
    "    else:\n",
    "        col = 'writing score'\n",
    "    \n",
    "    return col"
   ]
  },
  {
   "cell_type": "markdown",
   "id": "04169f44",
   "metadata": {},
   "source": [
    "### Function to choose the ethnicity group"
   ]
  },
  {
   "cell_type": "code",
   "execution_count": 112,
   "id": "72ae10b1",
   "metadata": {},
   "outputs": [],
   "source": [
    "def choose_ethnicity(dt):\n",
    "    group_num = int(input('Enter the subject: [1] group A - [2] group B - [3] group C : '))\n",
    "\n",
    "    if group_num == 1:\n",
    "        group = 'group A'\n",
    "    elif group_num == 2:\n",
    "        group = 'group B'\n",
    "    else:\n",
    "        group = 'group C'\n",
    "    \n",
    "    return group"
   ]
  },
  {
   "cell_type": "markdown",
   "id": "5c8fd283",
   "metadata": {},
   "source": [
    "# 1. Find the Smallest, Largest, Mean scores of each subject"
   ]
  },
  {
   "cell_type": "code",
   "execution_count": 113,
   "id": "4b917e59",
   "metadata": {},
   "outputs": [],
   "source": [
    "def get_min_score(dt, col):\n",
    "    min_sc = dt.iloc[0][col]\n",
    "    for i in range(len(dt)):\n",
    "        if dt.iloc[i][col] < min_sc:\n",
    "            min_sc = dt.iloc[i][col]\n",
    "    return min_sc"
   ]
  },
  {
   "cell_type": "code",
   "execution_count": 114,
   "id": "e18fe27a",
   "metadata": {},
   "outputs": [],
   "source": [
    "def get_max_score(dt, col):\n",
    "    max_sc = dt.iloc[0][col]\n",
    "    for i in range(len(dt)):\n",
    "        if dt.iloc[i][col] > max_sc:\n",
    "            max_sc = dt.iloc[i][col]\n",
    "    return max_sc"
   ]
  },
  {
   "cell_type": "code",
   "execution_count": 115,
   "id": "f0c074d2",
   "metadata": {},
   "outputs": [],
   "source": [
    "def get_mean_score(dt, col):\n",
    "    sum = 0\n",
    "    count = len(dt)\n",
    "    for i in range(len(dt)):\n",
    "        sum = sum + dt.iloc[i][col]\n",
    "    return sum / count"
   ]
  },
  {
   "cell_type": "code",
   "execution_count": 116,
   "id": "1ff6012e",
   "metadata": {},
   "outputs": [
    {
     "name": "stdout",
     "output_type": "stream",
     "text": [
      "Find the min - max - mean score for the subject\n",
      "Enter the subject: [1] Math - [2] Reading - [3] Writing : 1\n",
      "Min score :   0\n",
      "Max score :   100\n",
      "Mean score :  66.089\n"
     ]
    }
   ],
   "source": [
    "def main():\n",
    "    print('Find the min - max - mean score for the subject')\n",
    "    subject = choose_subject(df)\n",
    "    \n",
    "    print('Min score :  ', get_min_score(df, subject))\n",
    "    print('Max score :  ', get_max_score(df, subject))\n",
    "    print('Mean score : ', get_mean_score(df, subject))\n",
    "    \n",
    "main()"
   ]
  },
  {
   "cell_type": "markdown",
   "id": "8676305e",
   "metadata": {},
   "source": [
    "# 2. Code the function to find the number of the student passed or failed the exam"
   ]
  },
  {
   "cell_type": "code",
   "execution_count": 117,
   "id": "ffd3afb7",
   "metadata": {},
   "outputs": [],
   "source": [
    "def p_or_f(dt):\n",
    "    p_f = []\n",
    "    for i in range(len(dt)):\n",
    "        mean_sc = (dt.iloc[i]['math score'] + dt.iloc[i]['reading score'] + dt.iloc[i]['writing score']) / 3\n",
    "        if mean_sc >= 50:\n",
    "            p_f.append(\"P\")\n",
    "        else:\n",
    "            p_f.append(\"F\")\n",
    "    dt['p or f'] = p_f\n",
    "    count_pass = len(dt[dt['p or f'] == 'P'])\n",
    "    count_fail = len(dt) - count_pass\n",
    "    print('Pass :', count_pass, 'students')\n",
    "    print('Fail :', count_fail, 'students')"
   ]
  },
  {
   "cell_type": "code",
   "execution_count": 118,
   "id": "e72e2aa1",
   "metadata": {},
   "outputs": [
    {
     "name": "stdout",
     "output_type": "stream",
     "text": [
      "The number of students who passed or failed the exams\n",
      "Pass : 897 students\n",
      "Fail : 103 students\n"
     ]
    }
   ],
   "source": [
    "def main():\n",
    "    print('The number of students who passed or failed the exams')\n",
    "    p_or_f(df)\n",
    "    \n",
    "main()"
   ]
  },
  {
   "cell_type": "markdown",
   "id": "183ab1a3",
   "metadata": {},
   "source": [
    "# 3. Code the function to find which type of lunch is the most popular for students"
   ]
  },
  {
   "cell_type": "code",
   "execution_count": 120,
   "id": "9e65c6e4",
   "metadata": {},
   "outputs": [],
   "source": [
    "def popular_lunch(dt):\n",
    "    type_lunch = dt['lunch'].unique()\n",
    "    popular_lunch = {}\n",
    "    for i in range(len(dt)):\n",
    "        t = dt.iloc[i]['lunch']\n",
    "        if t in popular_lunch.keys():\n",
    "            popular_lunch[t] += 1\n",
    "        else:\n",
    "            popular_lunch[t] = 1\n",
    "            \n",
    "    most_pop = 0\n",
    "    pop_type = type_lunch[0]\n",
    "    for key in popular_lunch.keys():\n",
    "        if popular_lunch[key] > most_pop:\n",
    "            most_pop = popular_lunch[key]\n",
    "            pop_type = key\n",
    "    print(key, 'is the most popular with', most_pop, 'students choosing it')"
   ]
  },
  {
   "cell_type": "code",
   "execution_count": 121,
   "id": "4021d027",
   "metadata": {},
   "outputs": [
    {
     "name": "stdout",
     "output_type": "stream",
     "text": [
      "The most popular type of lunch the students prefer at school\n",
      "free/reduced is the most popular with 645 students choosing it\n"
     ]
    }
   ],
   "source": [
    "def main():\n",
    "    print('The most popular type of lunch the students prefer at school')\n",
    "    popular_lunch(df)\n",
    "main()"
   ]
  },
  {
   "cell_type": "markdown",
   "id": "2e9d0959",
   "metadata": {},
   "source": [
    "# 4. Code the function to determine which gender performs better at Tests"
   ]
  },
  {
   "cell_type": "code",
   "execution_count": 122,
   "id": "7a66c7f7",
   "metadata": {},
   "outputs": [],
   "source": [
    "def gender_testperformance(dt):\n",
    "    gender_dict = {'male' : 0, 'female' : 0}\n",
    "    count_male = 0\n",
    "    count_female = 0\n",
    "    for i in range(len(dt)):\n",
    "        if dt.iloc[i]['gender'] == 'male':\n",
    "            count_male += 1\n",
    "            gender_dict['male'] += dt.iloc[i]['mean score']\n",
    "        else:\n",
    "            count_female += 1\n",
    "            gender_dict['female'] += dt.iloc[i]['mean score']\n",
    "    mean_male = round(gender_dict['male'] / count_male, 2)\n",
    "    mean_female = round(gender_dict['female'] / count_female, 2)\n",
    "    if mean_male > mean_female:\n",
    "        print('Male students perform better at Tests in overall - overall score is', mean_male)\n",
    "    elif mean_female > mean_male:\n",
    "        print('Female students perform better at Tests in overall - overall score is', mean_female)\n",
    "    else:\n",
    "        print('Both genders perform good at Tests in overall - overall score is', mean_male)"
   ]
  },
  {
   "cell_type": "code",
   "execution_count": 123,
   "id": "e19c1038",
   "metadata": {},
   "outputs": [
    {
     "name": "stdout",
     "output_type": "stream",
     "text": [
      "Female students perform better at Tests in overall - overall score is 69.57\n"
     ]
    }
   ],
   "source": [
    "def main():\n",
    "    gender_df = df.loc[:, ('gender', 'math score', 'reading score', 'writing score')]\n",
    "    mean_score = []\n",
    "    for i in range(len(gender_df)):\n",
    "        mean_sc = (gender_df.iloc[i]['math score'] + gender_df.iloc[i]['reading score'] + gender_df.iloc[i]['writing score']) / 3\n",
    "        mean_score.append(round(mean_sc, 2))\n",
    "    gender_df['mean score'] = mean_score\n",
    "    \n",
    "    gender_testperformance(gender_df)\n",
    "    \n",
    "main()"
   ]
  },
  {
   "cell_type": "markdown",
   "id": "7a1665af",
   "metadata": {},
   "source": [
    "# 5. Code the function to find if girls join the test prep course more than boys or not"
   ]
  },
  {
   "cell_type": "code",
   "execution_count": 124,
   "id": "836cf7c6",
   "metadata": {},
   "outputs": [],
   "source": [
    "def gender_testprep(dt):\n",
    "    girl_join_status = 0\n",
    "    g_num = 0\n",
    "    boy_join_status = 0\n",
    "    b_num = 0\n",
    "    for i in range(len(dt)):\n",
    "        if dt.iloc[i]['gender'] == 'female':\n",
    "            g_num += 1\n",
    "            girl_join_status += check_join(dt.iloc[i]['test preparation course'])\n",
    "        else:\n",
    "            b_num += 1\n",
    "            boy_join_status += check_join(dt.iloc[i]['test preparation course'])\n",
    "    b = boy_join_status / b_num * 100\n",
    "    g = girl_join_status / g_num * 100\n",
    "    if g > b:\n",
    "        print('Girls - with', round(g,2), '%')\n",
    "    elif b > g:\n",
    "        print('Boys - with', round(b,2), '%')\n",
    "    else:\n",
    "        print('Both - with', round(b,2), '%')"
   ]
  },
  {
   "cell_type": "code",
   "execution_count": 125,
   "id": "d8752cb6",
   "metadata": {},
   "outputs": [],
   "source": [
    "def check_join(status):\n",
    "    if status == 'none':\n",
    "        return 0\n",
    "    else:\n",
    "        return 1"
   ]
  },
  {
   "cell_type": "code",
   "execution_count": 126,
   "id": "2bfec36e",
   "metadata": {},
   "outputs": [
    {
     "name": "stdout",
     "output_type": "stream",
     "text": [
      "Who join the test prep course more? Girls or Boys?\n",
      "Boys - with 36.1 %\n"
     ]
    }
   ],
   "source": [
    "def main():\n",
    "    print('Who join the test prep course more? Girls or Boys?')\n",
    "    \n",
    "    dt = df.loc[:, ['gender', 'test preparation course']]\n",
    "    gender_testprep(dt)\n",
    "    \n",
    "main()"
   ]
  },
  {
   "cell_type": "markdown",
   "id": "d3fb19fc",
   "metadata": {},
   "source": [
    "# 6. Code the function to find which Ethnicity group has the largest percentage of students passing the subject"
   ]
  },
  {
   "cell_type": "code",
   "execution_count": 127,
   "id": "eeec4058",
   "metadata": {},
   "outputs": [],
   "source": [
    "def largest_pass_rate(dt, subject):\n",
    "    group = dt['race/ethnicity'].unique()\n",
    "    res_group = 'group A'\n",
    "    res_pass_rate = 0\n",
    "    for gr in group:\n",
    "        data_cut = dt[dt['race/ethnicity'] == gr]\n",
    "        num = len(data_cut)\n",
    "        pass_num = len(data_cut[data_cut[subject] >= 50])\n",
    "        pass_rate = pass_num / num * 100\n",
    "        \n",
    "        if pass_rate > res_pass_rate:\n",
    "            res_pass_rate = pass_rate\n",
    "            res_group = gr\n",
    "            \n",
    "    return res_group, res_pass_rate"
   ]
  },
  {
   "cell_type": "code",
   "execution_count": 128,
   "id": "d0fcfdb2",
   "metadata": {},
   "outputs": [
    {
     "name": "stdout",
     "output_type": "stream",
     "text": [
      "Ethnicity group has the largest percentage of students passing the subject\n",
      "Enter the subject: [1] Math - [2] Reading - [3] Writing : 1\n",
      "Largest pass rate : group E - 92.86 %\n"
     ]
    }
   ],
   "source": [
    "def main():\n",
    "    print('Ethnicity group has the largest percentage of students passing the subject')\n",
    "    subject = choose_subject(df)\n",
    "    \n",
    "    (res_group, res_pass_rate) = largest_pass_rate(df, subject)\n",
    "    print('Largest pass rate : ' + res_group + ' -', round(res_pass_rate, 2), '%')\n",
    "    \n",
    "main()"
   ]
  },
  {
   "cell_type": "markdown",
   "id": "5fb647ea",
   "metadata": {},
   "source": [
    "# 7. Find the impact of Parental Level of Education on Pass Rate of all tests"
   ]
  },
  {
   "cell_type": "code",
   "execution_count": 129,
   "id": "cd82f808",
   "metadata": {
    "scrolled": false
   },
   "outputs": [],
   "source": [
    "def parental_impact(dt):\n",
    "    edu_group = dt['parental level of education'].unique()\n",
    "    edu_group_dict = {}\n",
    "    max_rate = 0\n",
    "    max_name = ''\n",
    "    min_rate = 100\n",
    "    min_name = ''\n",
    "\n",
    "    for i in edu_group:\n",
    "        edu_group_dict[i] = round(len(dt[dt['parental level of education'] == i]) / len(dt) * 100, 2)\n",
    "        if edu_group_dict[i] > max_rate:\n",
    "            max_rate = edu_group_dict[i]\n",
    "            max_name = i\n",
    "        if edu_group_dict[i] < min_rate:\n",
    "            min_rate = edu_group_dict[i]\n",
    "            min_name = i\n",
    "    print('Parental level of Education is', max_name, '- that has the highest pass rate :', max_rate, '%')\n",
    "    print('Parental level of Education is', min_name, '- that has the smallest pass rate :', min_rate, '%')"
   ]
  },
  {
   "cell_type": "code",
   "execution_count": 130,
   "id": "fa8991e3",
   "metadata": {},
   "outputs": [],
   "source": [
    "def bar_graph_edu(dt):\n",
    "    dt.groupby('parental level of education')['parental level of education'].count().plot(kind='bar')\n",
    "    plt.xlabel('Parental level of education', fontsize=10)\n",
    "    plt.ylabel('Num of students passing 3 subjects', fontsize=10)\n",
    "    plt.title(f'Students passing all tests - Parental edu - Bar graph', fontsize=15)\n",
    "    plt.show()"
   ]
  },
  {
   "cell_type": "code",
   "execution_count": 131,
   "id": "35736822",
   "metadata": {},
   "outputs": [
    {
     "name": "stdout",
     "output_type": "stream",
     "text": [
      "The impact of Parental Level of Education on Pass Rate\n",
      "Parental level of Education is associate's degree - that has the highest pass rate : 23.28 %\n",
      "Parental level of Education is master's degree - that has the smallest pass rate : 6.53 %\n"
     ]
    },
    {
     "data": {
      "image/png": "[encoded data removed]",
      "text/plain": [
       "<Figure size 432x288 with 1 Axes>"
      ]
     },
     "metadata": {
      "needs_background": "light"
     },
     "output_type": "display_data"
    }
   ],
   "source": [
    "def main():\n",
    "    pass_dt = df[(df['math score'] >= 50) & (df['reading score'] >= 50) & (df['writing score'] >= 50)]\n",
    "    \n",
    "    print('The impact of Parental Level of Education on Pass Rate')\n",
    "    \n",
    "    parental_impact(pass_dt)\n",
    "    bar_graph_edu(pass_dt)\n",
    "    \n",
    "main()"
   ]
  },
  {
   "cell_type": "markdown",
   "id": "9fe96ffe",
   "metadata": {},
   "source": [
    "# 8. Code the function to list Math Scores by Parental Level of Education, determine which groups have the excellent / good Math Score"
   ]
  },
  {
   "cell_type": "code",
   "execution_count": 132,
   "id": "93101580",
   "metadata": {},
   "outputs": [],
   "source": [
    "def ple_math_minmax(dt):\n",
    "    edu_group = dt['parental level of education'].unique()\n",
    "    edu_group_dict = {}\n",
    "    max_rate = 0\n",
    "    max_name = ''\n",
    "    min_rate = 100\n",
    "    min_name = ''\n",
    "\n",
    "    for i in edu_group:\n",
    "        edu_group_dict[i] = round(len(dt[dt['parental level of education'] == i]) / len(dt) * 100, 2)\n",
    "        if edu_group_dict[i] > max_rate:\n",
    "            max_rate = edu_group_dict[i]\n",
    "            max_name = i\n",
    "    return max_rate, max_name"
   ]
  },
  {
   "cell_type": "code",
   "execution_count": 133,
   "id": "6947aa34",
   "metadata": {},
   "outputs": [
    {
     "name": "stdout",
     "output_type": "stream",
     "text": [
      "36.21 % children with excellent Math score - Parental level of education is associate's degree\n",
      "22.84 % children with good Math score - Parental level of education is some college\n"
     ]
    }
   ],
   "source": [
    "def main():\n",
    "    plt_mathsc = df[['parental level of education', 'math score']]\n",
    "    \n",
    "    plt_mathsc_excellent = df[df['math score'] >= 90]\n",
    "    max_rate, max_name = ple_math_minmax(plt_mathsc_excellent)\n",
    "    print(max_rate, \"% children with excellent Math score - Parental level of education is\", max_name)\n",
    "    \n",
    "    plt_mathsc_good = df[(df['math score'] <= 90) & (df['math score'] >= 70)]\n",
    "    max_rate, max_name = ple_math_minmax(plt_mathsc_good)\n",
    "    print(max_rate, \"% children with good Math score - Parental level of education is\", max_name)\n",
    "\n",
    "main()"
   ]
  },
  {
   "cell_type": "markdown",
   "id": "b6491846",
   "metadata": {},
   "source": [
    "# 9. Code the function to detect if the student pass the exams at good marks (>70) with preparation"
   ]
  },
  {
   "cell_type": "code",
   "execution_count": 134,
   "id": "56774d94",
   "metadata": {},
   "outputs": [],
   "source": [
    "def pass_with_prep(dt):\n",
    "    good_pass = dt[(dt['math score'] >= 70) & (dt['reading score'] >= 70) & (dt['writing score'] >= 70)]\n",
    "    prep = good_pass['test preparation course'].unique()\n",
    "    prep_dict = {}\n",
    "    for i in prep:\n",
    "        prep_dict[i] = len(good_pass[good_pass['test preparation course'] == i])\n",
    "    return prep_dict"
   ]
  },
  {
   "cell_type": "code",
   "execution_count": 135,
   "id": "bc9fecc2",
   "metadata": {},
   "outputs": [],
   "source": [
    "def pie_chart_prep(prep_dict):        \n",
    "    fig = plt.figure()\n",
    "    ax = fig.add_axes([0,0,1,1])\n",
    "    ax.axis('equal')\n",
    "    prep_status = prep_dict.keys()\n",
    "    pass_num = prep_dict.values()\n",
    "    ax.pie(pass_num, labels = prep_status, autopct='%1.2f%%')\n",
    "    plt.title(f'Students passing the test - Prep status - Pie chart', fontsize=15)\n",
    "    plt.show()"
   ]
  },
  {
   "cell_type": "code",
   "execution_count": 136,
   "id": "d6540374",
   "metadata": {},
   "outputs": [
    {
     "name": "stdout",
     "output_type": "stream",
     "text": [
      "  test preparation course  count\n",
      "0                    none    174\n",
      "1               completed    150\n"
     ]
    },
    {
     "data": {
      "image/png": "[encoded data removed]",
      "text/plain": [
       "<Figure size 432x288 with 1 Axes>"
      ]
     },
     "metadata": {},
     "output_type": "display_data"
    }
   ],
   "source": [
    "def main():\n",
    "    pass_dt = df[(df['math score'] >= 50) & (df['reading score'] >= 50) & (df['writing score'] >= 50)]\n",
    "    pass_dt_prep = df[['test preparation course','math score','reading score','writing score']]\n",
    "    \n",
    "    prep_dict = pass_with_prep(pass_dt_prep)\n",
    "    \n",
    "    prep_df = pd.DataFrame()\n",
    "    prep_df['test preparation course'] = prep_dict.keys()\n",
    "    prep_df['count'] = prep_dict.values()\n",
    "    print(prep_df)\n",
    "\n",
    "    pie_chart_prep(prep_dict)\n",
    "    \n",
    "main()"
   ]
  },
  {
   "cell_type": "markdown",
   "id": "1a91cfd6",
   "metadata": {},
   "source": [
    "# 10. Draw the graph for the number and rate of students passing the test basing on ethnicity"
   ]
  },
  {
   "cell_type": "code",
   "execution_count": 137,
   "id": "0cedcfd1",
   "metadata": {},
   "outputs": [],
   "source": [
    "def bar_graph_ethnicity(dt, subject):\n",
    "    pass_dt = dt[dt[subject] >= 50]\n",
    "    pass_dt.groupby('race/ethnicity')[subject].nunique().plot(kind='bar')\n",
    "    plt.xlabel('Ethnicity', fontsize=10)\n",
    "    plt.ylabel('Number of students passing', fontsize=10)\n",
    "    plt.title(f'Students passing the test - Ethnicity - Bar graph', fontsize=15)\n",
    "    plt.show()"
   ]
  },
  {
   "cell_type": "code",
   "execution_count": 138,
   "id": "85309b03",
   "metadata": {},
   "outputs": [],
   "source": [
    "def pie_chart_ethnicity(dt, subject):\n",
    "    group = dt['race/ethnicity'].unique()\n",
    "    pass_rate_dict = {}\n",
    "    \n",
    "    for gr in group:\n",
    "        data_cut = dt[dt['race/ethnicity'] == gr]\n",
    "        num = len(data_cut)\n",
    "        pass_num = len(data_cut[data_cut[subject] >= 50])\n",
    "        pass_rate = pass_num / num * 100\n",
    "\n",
    "        pass_rate_dict[gr] = pass_rate\n",
    "        \n",
    "    fig = plt.figure()\n",
    "    ax = fig.add_axes([0,0,1,1])\n",
    "    ax.axis('equal')\n",
    "    group_name = pass_rate_dict.keys()\n",
    "    pass_rate_name = pass_rate_dict.values()\n",
    "    ax.pie(pass_rate_name, labels = group_name, autopct='%1.2f%%')\n",
    "    plt.title(f'Students passing the test - Ethnicity - Pie chart', fontsize=15)\n",
    "    plt.show()"
   ]
  },
  {
   "cell_type": "code",
   "execution_count": 139,
   "id": "c30cb1e9",
   "metadata": {},
   "outputs": [
    {
     "name": "stdout",
     "output_type": "stream",
     "text": [
      "Draw the graph for the number of students passing the test basing on ethnicity\n",
      "Enter the subject: [1] Math - [2] Reading - [3] Writing : 1\n"
     ]
    },
    {
     "data": {
      "image/png": "[encoded data removed]",
      "text/plain": [
       "<Figure size 432x288 with 1 Axes>"
      ]
     },
     "metadata": {
      "needs_background": "light"
     },
     "output_type": "display_data"
    },
    {
     "data": {
      "image/png": "[encoded data removed]",
      "text/plain": [
       "<Figure size 432x288 with 1 Axes>"
      ]
     },
     "metadata": {},
     "output_type": "display_data"
    }
   ],
   "source": [
    "def main():\n",
    "    print('Draw the graph for the number of students passing the test basing on ethnicity')\n",
    "    subject = choose_subject(df)\n",
    "    \n",
    "    bar_graph_ethnicity(df, subject)\n",
    "    pie_chart_ethnicity(df, subject)\n",
    "    \n",
    "main()"
   ]
  },
  {
   "cell_type": "code",
   "execution_count": null,
   "id": "aaa7cf7c",
   "metadata": {},
   "outputs": [],
   "source": []
  }
 ],
 "metadata": {
  "kernelspec": {
   "display_name": "Python 3",
   "language": "python",
   "name": "python3"
  },
  "language_info": {
   "codemirror_mode": {
    "name": "ipython",
    "version": 3
   },
   "file_extension": ".py",
   "mimetype": "text/x-python",
   "name": "python",
   "nbconvert_exporter": "python",
   "pygments_lexer": "ipython3",
   "version": "3.8.8"
  }
 },
 "nbformat": 4,
 "nbformat_minor": 5
}
